{
  "cells": [
    {
      "cell_type": "markdown",
      "metadata": {
        "colab_type": "text",
        "id": "view-in-github"
      },
      "source": [
        "<a href=\"https://colab.research.google.com/github/Tzung-han/python_analysis/blob/main/Untitled7_3.ipynb\" target=\"_parent\"><img src=\"https://colab.research.google.com/assets/colab-badge.svg\" alt=\"Open In Colab\"/></a>"
      ]
    },
    {
      "cell_type": "code",
      "execution_count": null,
      "metadata": {
        "colab": {
          "base_uri": "https://localhost:8080/",
          "height": 369
        },
        "id": "wjNOFu-Iamp7",
        "outputId": "9af83874-0a6c-4e2f-e5e9-0a9515559d16"
      },
      "outputs": [
        {
          "ename": "",
          "evalue": "",
          "output_type": "error",
          "traceback": [
            "\u001b[1;31m執行具有 'Python 3.11.2' 的儲存格需要 ipykernel 套件。\n",
            "\u001b[1;31m執行下列命令以將 'ipykernel' 安裝到 Python 環境中。\n",
            "\u001b[1;31m命令: '/usr/bin/python3 -m pip install ipykernel -U --user --force-reinstall'"
          ]
        }
      ],
      "source": [
        "import wget\n",
        "wget.download('https://github.com/roberthsu2003/__2025_01_04_chihlee__/raw/refs/heads/main/ChineseFont.ttf')"
      ]
    },
    {
      "cell_type": "code",
      "execution_count": null,
      "metadata": {
        "id": "vN91o1dBbd5d"
      },
      "outputs": [],
      "source": []
    },
    {
      "cell_type": "code",
      "execution_count": null,
      "metadata": {
        "id": "4IAKsMDJa1pX"
      },
      "outputs": [],
      "source": [
        "import matplotlib.pyplot as plt\n",
        "from matplotlib.font_manager import fontManager\n",
        "import matplotlib as mlp\n",
        "fontManager.addfont('ChineseFont.ttf')\n",
        "mlp.rc('font', family='ChineseFont')"
      ]
    },
    {
      "cell_type": "code",
      "execution_count": null,
      "metadata": {
        "colab": {
          "base_uri": "https://localhost:8080/",
          "height": 399
        },
        "id": "25eiLbHUbGVx",
        "outputId": "9687efd6-b339-49bd-a46a-e654b147187b"
      },
      "outputs": [],
      "source": [
        "figure = plt.figure(figsize=(10,6))\n",
        "axes = figure.add_subplot(1,1,1)\n",
        "axes.set_xticks([1, 3, 5, 7, 9])\n",
        "axes.set_yticks([-1, -0.5, 0, 0.5, 1])\n",
        "plt.show()"
      ]
    },
    {
      "cell_type": "code",
      "execution_count": null,
      "metadata": {
        "colab": {
          "base_uri": "https://localhost:8080/",
          "height": 404
        },
        "id": "OgYxp8xcbfRk",
        "outputId": "9ff0f719-6408-4dda-9933-2fbab6913ecf"
      },
      "outputs": [],
      "source": [
        "figure = plt.figure(figsize=(10,6))\n",
        "axes = figure.add_subplot(1,1,1)\n",
        "axes.plot([11, 3, 5, 7, 9],marker='o',color='red', linestyle='')\n",
        "plt.show()"
      ]
    },
    {
      "cell_type": "code",
      "execution_count": null,
      "metadata": {
        "colab": {
          "base_uri": "https://localhost:8080/",
          "height": 404
        },
        "id": "jXjDEtppbi44",
        "outputId": "e6cc2c1d-7e42-4821-a1f2-7f0195226d84"
      },
      "outputs": [],
      "source": [
        "figure = plt.figure(figsize=(10,6))\n",
        "ax1 = figure.add_subplot(2,1,1)\n",
        "ax1.plot([11, 3, 5, 7, 9],marker='o',color='red', linestyle='')\n",
        "ax2 = figure.add_subplot(2,1,2)\n",
        "ax2.bar(['a', 'b', 'c', 'd', 'e'],[1, 2, 3, 4, 5])\n",
        "plt.show()"
      ]
    },
    {
      "cell_type": "code",
      "execution_count": null,
      "metadata": {
        "id": "_qyPBsafhENg"
      },
      "outputs": [],
      "source": [
        "student1 = {'國文':78, '英文':80, '數學':92, '歷史':75, '探索':85}\n",
        "student2 = {'國文':90, '英文':75, '數學':98, '歷史':65, '探索':75}"
      ]
    },
    {
      "cell_type": "code",
      "execution_count": null,
      "metadata": {
        "colab": {
          "base_uri": "https://localhost:8080/",
          "height": 718
        },
        "collapsed": true,
        "id": "_ecoKeILg7HT",
        "outputId": "ca7f6bda-b462-413f-c989-fe96bb1a4b16"
      },
      "outputs": [],
      "source": [
        "subjects = list(student1.keys())\n",
        "score1 = list(student1.values())\n",
        "score2 = list(student2.values())\n",
        "\n",
        "figure = plt.figure(figsize=(10,8))\n",
        "axes = figure.add_subplot(1,1,1)\n",
        "axes.set_title(\"小明和大明分數比較表\")\n",
        "axes.set_xlabel(\"科目\")\n",
        "axes.set_ylabel(\"分數\")\n",
        "axes.plot(subjects,score1,'ro-.',label=\"小明\")\n",
        "axes.plot(subjects,score2,'gx--',label=\"大明\")\n",
        "axes.legend()\n",
        "axes.grid(axis='y')\n",
        "plt.show()"
      ]
    },
    {
      "cell_type": "code",
      "execution_count": null,
      "metadata": {
        "colab": {
          "base_uri": "https://localhost:8080/",
          "height": 559
        },
        "id": "Arl2uCrejmrA",
        "outputId": "603ddfb0-f62b-4a2b-ea6c-82cf487d8e36"
      },
      "outputs": [],
      "source": [
        "subjects = list(student1.keys())\n",
        "score1 = list(student1.values())\n",
        "score2 = list(student2.values())\n",
        "\n",
        "figure = plt.figure(figsize=(10,8))\n",
        "axes = figure.add_subplot(1,1,1)\n",
        "axes.set_title(\"小明和大明分數比較表\")\n",
        "axes.set_xlabel(\"科目\")\n",
        "axes.set_ylabel(\"分數\")\n",
        "axes.plot(subjects,score1,'ro-.',label=\"小明\")\n",
        "axes.plot(subjects,score2,'gx--',label=\"大明\")\n",
        "axes.legend()\n",
        "axes.grid(axis='y')\n",
        "# 加入標註，xy 是要標註的位置，xytext 是文字顯示的位置，textcoords 指定座標系統\n",
        "axes.annotate(f\"{student1['國文']}\", xy=(subjects[0], score1[0]), xytext=(subjects[0], score1[0]+5),\n",
        "              arrowprops=dict(facecolor='black', shrink=0.05)) #arrowprops 讓標註有箭頭\n",
        "print(subjects[0])\n",
        "plt.show()"
      ]
    },
    {
      "cell_type": "code",
      "execution_count": null,
      "metadata": {
        "colab": {
          "base_uri": "https://localhost:8080/",
          "height": 542
        },
        "id": "du_cOT2swt5z",
        "outputId": "b9cc43e2-372b-4762-ddd8-3f9f9b9e3230"
      },
      "outputs": [],
      "source": [
        "import matplotlib.pyplot as plt\n",
        "from matplotlib.font_manager import fontManager\n",
        "import matplotlib as mlp\n",
        "fontManager.addfont('ChineseFont.ttf')\n",
        "mlp.rc('font', family='ChineseFont')\n",
        "\n",
        "student1 = {'國文':78, '英文':80, '數學':92, '歷史':75, '探索':85}\n",
        "student2 = {'國文':90, '英文':75, '數學':98, '歷史':65, '探索':75}\n",
        "subjects = list(student1.keys())\n",
        "score1 = list(student1.values())\n",
        "score2 = list(student2.values())\n",
        "\n",
        "figure = plt.figure(figsize=(10,8))\n",
        "axes = figure.add_subplot(1,1,1)\n",
        "axes.set_title(\"小明和大明分數比較表\")\n",
        "axes.set_xlabel(\"科目\")\n",
        "axes.set_ylabel(\"分數\")\n",
        "axes.plot(subjects,score1,'ro-.',label=\"小明\")\n",
        "axes.plot(subjects,score2,'gx--',label=\"大明\")\n",
        "axes.legend()\n",
        "axes.grid(axis='y')\n",
        "\n",
        "# 找出數學在subjects列表中的索引\n",
        "math_index = subjects.index('數學')\n",
        "\n",
        "for idx, (s, v1, v2) in enumerate(zip(subjects, score1, score2)):\n",
        "    if s == '數學' and v1 == 92:\n",
        "        # 對於數學成績，使用特殊的箭頭樣式\n",
        "        # 使用arc3連接樣式並調整弧度來模擬90度轉向\n",
        "        axes.annotate(f'{v1}',\n",
        "                      xy=(math_index, v1),\n",
        "                      xytext=(math_index+0.3, v1-5),  # 將文字向右上方移動\n",
        "                      arrowprops=dict(\n",
        "                          facecolor='red',\n",
        "                          shrink=0.05,\n",
        "                          connectionstyle='arc3,rad=-0.5'  # 負值使弧度向右彎曲\n",
        "                      ))\n",
        "        axes.annotate(f'{v2}', xy=(s, v2+0.5))\n",
        "    else:\n",
        "        axes.annotate(f'{v1}', xy=(s, v1+0.5))\n",
        "        axes.annotate(f'{v2}', xy=(s, v2+0.5))\n",
        "plt.show()"
      ]
    },
    {
      "cell_type": "code",
      "execution_count": null,
      "metadata": {
        "colab": {
          "base_uri": "https://localhost:8080/",
          "height": 447
        },
        "id": "KehY1enZzYfN",
        "outputId": "995c2da7-a086-4145-ea58-840b7375ea3b"
      },
      "outputs": [],
      "source": [
        "import numpy as np\n",
        "x = np.arange(-2*np.pi, 2*np.pi, 0.01)\n",
        "y1 = np.sin(3*x)/x\n",
        "y2 = np.sin(2*x)/x\n",
        "plt.plot(x,y1)\n",
        "plt.plot(x,y2)"
      ]
    }
  ],
  "metadata": {
    "colab": {
      "authorship_tag": "ABX9TyM8230eUNY4Oor7CQl/BG1s",
      "include_colab_link": true,
      "provenance": []
    },
    "kernelspec": {
      "display_name": "Python 3",
      "name": "python3"
    },
    "language_info": {
      "name": "python",
      "version": "3.11.2"
    }
  },
  "nbformat": 4,
  "nbformat_minor": 0
}
