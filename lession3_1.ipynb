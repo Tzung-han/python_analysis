{
 "cells": [
  {
   "cell_type": "code",
   "execution_count": 19,
   "metadata": {},
   "outputs": [
    {
     "data": {
      "text/plain": [
       "{'name': 'kile2002', 'age': 46, 'city': 'Taipei'}"
      ]
     },
     "execution_count": 19,
     "metadata": {},
     "output_type": "execute_result"
    }
   ],
   "source": [
    "p1 = {'name':'kile2002',\n",
    "    'age':46,\n",
    "    'city':'Taipei'}\n",
    "p1"
   ]
  },
  {
   "cell_type": "code",
   "execution_count": 17,
   "metadata": {},
   "outputs": [
    {
     "data": {
      "text/plain": [
       "{'city': 'Taipei'}"
      ]
     },
     "execution_count": 17,
     "metadata": {},
     "output_type": "execute_result"
    }
   ],
   "source": [
    "p1"
   ]
  },
  {
   "cell_type": "code",
   "execution_count": 10,
   "metadata": {},
   "outputs": [
    {
     "data": {
      "text/plain": [
       "46"
      ]
     },
     "execution_count": 10,
     "metadata": {},
     "output_type": "execute_result"
    }
   ],
   "source": [
    "del p1['city']\n",
    "p1.pop('age')"
   ]
  },
  {
   "cell_type": "code",
   "execution_count": 8,
   "metadata": {},
   "outputs": [
    {
     "data": {
      "text/plain": [
       "{'name': 'kile2002', 'age': 46, 'city': 'Taipei'}"
      ]
     },
     "execution_count": 8,
     "metadata": {},
     "output_type": "execute_result"
    }
   ],
   "source": [
    "p1 = {'name':'kile2002',\n",
    "    'age':46,\n",
    "    'city':'Taipei'}\n",
    "p1"
   ]
  },
  {
   "cell_type": "code",
   "execution_count": null,
   "metadata": {},
   "outputs": [],
   "source": []
  },
  {
   "cell_type": "code",
   "execution_count": 9,
   "metadata": {},
   "outputs": [
    {
     "name": "stdout",
     "output_type": "stream",
     "text": [
      "kile2002\n",
      "46\n"
     ]
    }
   ],
   "source": [
    "print(p1['name'])\n",
    "print(p1.get('age'))"
   ]
  },
  {
   "cell_type": "code",
   "execution_count": 7,
   "metadata": {},
   "outputs": [
    {
     "data": {
      "text/plain": [
       "20"
      ]
     },
     "execution_count": 7,
     "metadata": {},
     "output_type": "execute_result"
    }
   ],
   "source": [
    "numbers = [1, 2, 3, 4, 5] #使用符號建立\n",
    "mixed_list = [1, \"Hello\",3.14, True] #元素值可以不同資料類型\n",
    "empty_list = []\n",
    "list_from_range = list(range(10,21))\n",
    "list_from_range\n",
    "\n",
    "#list的操作\n",
    "list_from_range[10] #subscript"
   ]
  },
  {
   "cell_type": "code",
   "execution_count": 20,
   "metadata": {},
   "outputs": [
    {
     "name": "stdout",
     "output_type": "stream",
     "text": [
      "蘋\n",
      "蕉\n",
      "橘\n"
     ]
    }
   ],
   "source": [
    "fruits = ['蘋', '蕉', '橘']\n",
    "for fruit in fruits:\n",
    "    print(fruit)"
   ]
  },
  {
   "cell_type": "code",
   "execution_count": 21,
   "metadata": {},
   "outputs": [
    {
     "name": "stdout",
     "output_type": "stream",
     "text": [
      "0->蘋\n",
      "==========\n",
      "1->蕉\n",
      "==========\n",
      "2->橘\n",
      "==========\n"
     ]
    }
   ],
   "source": [
    "for index,fruit in enumerate(fruits):\n",
    "    print(index, fruit,sep='->')\n",
    "    print(\"==========\");"
   ]
  },
  {
   "cell_type": "code",
   "execution_count": 22,
   "metadata": {},
   "outputs": [
    {
     "data": {
      "text/plain": [
       "{'Taipei': '台北',\n",
       " 'New Taipei': '新北',\n",
       " 'Taoyuan': '桃園',\n",
       " 'Taichung': '台中',\n",
       " 'Tainan': '台南',\n",
       " 'Kaohsiung': '高雄',\n",
       " 'Keelung': '基隆',\n",
       " 'Hsinchu': '新竹',\n",
       " 'Chiayi': '嘉義'}"
      ]
     },
     "execution_count": 22,
     "metadata": {},
     "output_type": "execute_result"
    }
   ],
   "source": [
    "taiwan_cities = {\n",
    "    'Taipei': '台北',\n",
    "    'New Taipei': '新北',\n",
    "    'Taoyuan': '桃園',\n",
    "    'Taichung': '台中',\n",
    "    'Tainan': '台南',\n",
    "    'Kaohsiung': '高雄',\n",
    "    'Keelung': '基隆',\n",
    "    'Hsinchu': '新竹',\n",
    "    'Chiayi': '嘉義'\n",
    "}\n",
    "taiwan_cities"
   ]
  },
  {
   "cell_type": "code",
   "execution_count": 23,
   "metadata": {},
   "outputs": [
    {
     "name": "stdout",
     "output_type": "stream",
     "text": [
      "台北\n",
      "新北\n",
      "桃園\n",
      "台中\n",
      "台南\n",
      "高雄\n",
      "基隆\n",
      "新竹\n",
      "嘉義\n"
     ]
    }
   ],
   "source": [
    "for value in taiwan_cities.values():\n",
    "    print(value)"
   ]
  }
 ],
 "metadata": {
  "kernelspec": {
   "display_name": "base",
   "language": "python",
   "name": "python3"
  },
  "language_info": {
   "codemirror_mode": {
    "name": "ipython",
    "version": 3
   },
   "file_extension": ".py",
   "mimetype": "text/x-python",
   "name": "python",
   "nbconvert_exporter": "python",
   "pygments_lexer": "ipython3",
   "version": "3.12.2"
  }
 },
 "nbformat": 4,
 "nbformat_minor": 2
}
