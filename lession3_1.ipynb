{
 "cells": [
  {
   "cell_type": "code",
   "execution_count": 44,
   "metadata": {},
   "outputs": [
    {
     "data": {
      "text/plain": [
       "{'name': 'kile2002', 'age': 46, 'city': 'Taipei'}"
      ]
     },
     "execution_count": 44,
     "metadata": {},
     "output_type": "execute_result"
    }
   ],
   "source": [
    "p1 = {'name':'kile2002',\n",
    "    'age':46,\n",
    "    'city':'Taipei'}\n",
    "p1"
   ]
  },
  {
   "cell_type": "code",
   "execution_count": 45,
   "metadata": {},
   "outputs": [
    {
     "data": {
      "text/plain": [
       "{'name': 'kile2002', 'age': 46, 'city': 'Taipei'}"
      ]
     },
     "execution_count": 45,
     "metadata": {},
     "output_type": "execute_result"
    }
   ],
   "source": [
    "p1"
   ]
  },
  {
   "cell_type": "code",
   "execution_count": 46,
   "metadata": {},
   "outputs": [
    {
     "data": {
      "text/plain": [
       "46"
      ]
     },
     "execution_count": 46,
     "metadata": {},
     "output_type": "execute_result"
    }
   ],
   "source": [
    "del p1['city']\n",
    "p1.pop('age')"
   ]
  },
  {
   "cell_type": "code",
   "execution_count": 47,
   "metadata": {},
   "outputs": [
    {
     "data": {
      "text/plain": [
       "{'name': 'kile2002', 'age': 46, 'city': 'Taipei'}"
      ]
     },
     "execution_count": 47,
     "metadata": {},
     "output_type": "execute_result"
    }
   ],
   "source": [
    "p1 = {'name':'kile2002',\n",
    "    'age':46,\n",
    "    'city':'Taipei'}\n",
    "p1"
   ]
  },
  {
   "cell_type": "code",
   "execution_count": null,
   "metadata": {},
   "outputs": [],
   "source": []
  },
  {
   "cell_type": "code",
   "execution_count": 48,
   "metadata": {},
   "outputs": [
    {
     "name": "stdout",
     "output_type": "stream",
     "text": [
      "kile2002\n",
      "46\n"
     ]
    }
   ],
   "source": [
    "print(p1['name'])\n",
    "print(p1.get('age'))"
   ]
  },
  {
   "cell_type": "code",
   "execution_count": 49,
   "metadata": {},
   "outputs": [
    {
     "data": {
      "text/plain": [
       "20"
      ]
     },
     "execution_count": 49,
     "metadata": {},
     "output_type": "execute_result"
    }
   ],
   "source": [
    "numbers = [1, 2, 3, 4, 5] #使用符號建立\n",
    "mixed_list = [1, \"Hello\",3.14, True] #元素值可以不同資料類型\n",
    "empty_list = []\n",
    "list_from_range = list(range(10,21))\n",
    "list_from_range\n",
    "\n",
    "#list的操作\n",
    "list_from_range[10] #subscript"
   ]
  },
  {
   "cell_type": "code",
   "execution_count": 50,
   "metadata": {},
   "outputs": [
    {
     "name": "stdout",
     "output_type": "stream",
     "text": [
      "蘋\n",
      "蕉\n",
      "橘\n"
     ]
    }
   ],
   "source": [
    "fruits = ['蘋', '蕉', '橘']\n",
    "for fruit in fruits:\n",
    "    print(fruit)"
   ]
  },
  {
   "cell_type": "code",
   "execution_count": 51,
   "metadata": {},
   "outputs": [
    {
     "name": "stdout",
     "output_type": "stream",
     "text": [
      "0->蘋\n",
      "==========\n",
      "1->蕉\n",
      "==========\n",
      "2->橘\n",
      "==========\n"
     ]
    }
   ],
   "source": [
    "for index,fruit in enumerate(fruits):\n",
    "    print(index, fruit,sep='->')\n",
    "    print(\"==========\");"
   ]
  },
  {
   "cell_type": "code",
   "execution_count": 52,
   "metadata": {},
   "outputs": [
    {
     "data": {
      "text/plain": [
       "{'Taipei': '台北',\n",
       " 'New Taipei': '新北',\n",
       " 'Taoyuan': '桃園',\n",
       " 'Taichung': '台中',\n",
       " 'Tainan': '台南',\n",
       " 'Kaohsiung': '高雄',\n",
       " 'Keelung': '基隆',\n",
       " 'Hsinchu': '新竹',\n",
       " 'Chiayi': '嘉義'}"
      ]
     },
     "execution_count": 52,
     "metadata": {},
     "output_type": "execute_result"
    }
   ],
   "source": [
    "taiwan_cities = {\n",
    "    'Taipei': '台北',\n",
    "    'New Taipei': '新北',\n",
    "    'Taoyuan': '桃園',\n",
    "    'Taichung': '台中',\n",
    "    'Tainan': '台南',\n",
    "    'Kaohsiung': '高雄',\n",
    "    'Keelung': '基隆',\n",
    "    'Hsinchu': '新竹',\n",
    "    'Chiayi': '嘉義'\n",
    "}\n",
    "taiwan_cities"
   ]
  },
  {
   "cell_type": "code",
   "execution_count": 53,
   "metadata": {},
   "outputs": [
    {
     "name": "stdout",
     "output_type": "stream",
     "text": [
      "台北\n",
      "新北\n",
      "桃園\n",
      "台中\n",
      "台南\n",
      "高雄\n",
      "基隆\n",
      "新竹\n",
      "嘉義\n"
     ]
    }
   ],
   "source": [
    "for value in taiwan_cities.values():\n",
    "    print(value)"
   ]
  },
  {
   "cell_type": "code",
   "execution_count": 57,
   "metadata": {},
   "outputs": [
    {
     "data": {
      "text/plain": [
       "\"[{'name': 'student1', 'chinese': 75, 'english': 75, 'math': 67, 'history': 84, 'health': 60}, {'name': 'student2', 'chinese': 96, 'english': 92, 'math': 72, 'history': 82, 'health': 78}, {'name': 'student3', 'chinese': 93, 'english': 96, 'math': 61, 'history': 84, 'health': 59}, {'name': 'student4', 'chinese': 61, 'english': 51, 'math': 61, 'history': 84, 'health': 86}, {'name': 'student5', 'chinese': 71, 'english': 86, 'math': 57, 'history': 92, 'health': 100}, {'name': 'student6', 'chinese': 51, 'english': 96, 'math': 62, 'history': 77, 'health': 91}, {'name': 'student7', 'chinese': 86, 'english': 59, 'math': 89, 'history': 62, 'health': 80}, {'name': 'student8', 'chinese': 63, 'english': 65, 'math': 66, 'history': 98, 'health': 64}, {'name': 'student9', 'chinese': 78, 'english': 56, 'math': 82, 'history': 97, 'health': 91}, {'name': 'student10', 'chinese': 50, 'english': 90, 'math': 80, 'history': 94, 'health': 62}, {'name': 'student11', 'chinese': 67, 'english': 52, 'math': 76, 'history': 78, 'health': 68}, {'name': 'student12', 'chinese': 69, 'english': 85, 'math': 78, 'history': 91, 'health': 76}, {'name': 'student13', 'chinese': 86, 'english': 51, 'math': 78, 'history': 81, 'health': 94}, {'name': 'student14', 'chinese': 51, 'english': 74, 'math': 52, 'history': 72, 'health': 80}, {'name': 'student15', 'chinese': 91, 'english': 98, 'math': 99, 'history': 84, 'health': 78}, {'name': 'student16', 'chinese': 73, 'english': 57, 'math': 84, 'history': 89, 'health': 90}, {'name': 'student17', 'chinese': 73, 'english': 100, 'math': 59, 'history': 92, 'health': 89}, {'name': 'student18', 'chinese': 96, 'english': 82, 'math': 60, 'history': 100, 'health': 51}, {'name': 'student19', 'chinese': 79, 'english': 92, 'math': 53, 'history': 100, 'health': 64}, {'name': 'student20', 'chinese': 87, 'english': 86, 'math': 55, 'history': 80, 'health': 67}, {'name': 'student21', 'chinese': 72, 'english': 79, 'math': 87, 'history': 59, 'health': 64}, {'name': 'student22', 'chinese': 65, 'english': 54, 'math': 93, 'history': 89, 'health': 100}, {'name': 'student23', 'chinese': 71, 'english': 91, 'math': 55, 'history': 89, 'health': 83}, {'name': 'student24', 'chinese': 76, 'english': 72, 'math': 82, 'history': 98, 'health': 87}, {'name': 'student25', 'chinese': 68, 'english': 69, 'math': 78, 'history': 93, 'health': 63}, {'name': 'student26', 'chinese': 66, 'english': 71, 'math': 74, 'history': 88, 'health': 59}, {'name': 'student27', 'chinese': 75, 'english': 51, 'math': 71, 'history': 72, 'health': 53}, {'name': 'student28', 'chinese': 83, 'english': 75, 'math': 61, 'history': 89, 'health': 70}, {'name': 'student29', 'chinese': 83, 'english': 71, 'math': 83, 'history': 95, 'health': 78}, {'name': 'student30', 'chinese': 87, 'english': 72, 'math': 100, 'history': 83, 'health': 96}, {'name': 'student31', 'chinese': 76, 'english': 55, 'math': 99, 'history': 64, 'health': 74}, {'name': 'student32', 'chinese': 91, 'english': 90, 'math': 83, 'history': 62, 'health': 81}, {'name': 'student33', 'chinese': 76, 'english': 59, 'math': 62, 'history': 78, 'health': 68}, {'name': 'student34', 'chinese': 67, 'english': 95, 'math': 79, 'history': 88, 'health': 73}, {'name': 'student35', 'chinese': 57, 'english': 74, 'math': 64, 'history': 65, 'health': 95}, {'name': 'student36', 'chinese': 78, 'english': 60, 'math': 71, 'history': 98, 'health': 97}, {'name': 'student37', 'chinese': 86, 'english': 68, 'math': 58, 'history': 63, 'health': 59}, {'name': 'student38', 'chinese': 87, 'english': 76, 'math': 54, 'history': 53, 'health': 97}, {'name': 'student39', 'chinese': 66, 'english': 50, 'math': 84, 'history': 56, 'health': 65}, {'name': 'student40', 'chinese': 69, 'english': 92, 'math': 64, 'history': 93, 'health': 69}, {'name': 'student41', 'chinese': 71, 'english': 81, 'math': 57, 'history': 75, 'health': 74}, {'name': 'student42', 'chinese': 78, 'english': 57, 'math': 50, 'history': 81, 'health': 55}, {'name': 'student43', 'chinese': 58, 'english': 82, 'math': 51, 'history': 57, 'health': 53}, {'name': 'student44', 'chinese': 61, 'english': 65, 'math': 96, 'history': 76, 'health': 95}, {'name': 'student45', 'chinese': 86, 'english': 62, 'math': 71, 'history': 66, 'health': 91}, {'name': 'student46', 'chinese': 99, 'english': 52, 'math': 73, 'history': 80, 'health': 88}, {'name': 'student47', 'chinese': 83, 'english': 56, 'math': 55, 'history': 52, 'health': 87}, {'name': 'student48', 'chinese': 66, 'english': 88, 'math': 73, 'history': 71, 'health': 69}, {'name': 'student49', 'chinese': 80, 'english': 62, 'math': 71, 'history': 74, 'health': 94}, {'name': 'student50', 'chinese': 72, 'english': 74, 'math': 85, 'history': 68, 'health': 95}]\""
      ]
     },
     "execution_count": 57,
     "metadata": {},
     "output_type": "execute_result"
    }
   ],
   "source": [
    "import random\n",
    "students = []\n",
    "for i in range(1,51):\n",
    "    students.append(\n",
    "        {\n",
    "            'name':f'student{i}',\n",
    "            'chinese':random.randint(50,100),\n",
    "            'english':random.randint(50,100),\n",
    "            'math':random.randint(50,100),\n",
    "            'history':random.randint(50,100),\n",
    "            'health':random.randint(50,100)\n",
    "        }\n",
    "    )\n",
    "\n",
    "students_str = str(students)\n",
    "students_str"
   ]
  },
  {
   "cell_type": "code",
   "execution_count": 58,
   "metadata": {},
   "outputs": [
    {
     "name": "stdout",
     "output_type": "stream",
     "text": [
      "{'name': 'student1', 'chinese': 75, 'english': 75, 'math': 67, 'history': 84, 'health': 60}\n",
      "{'name': 'student2', 'chinese': 96, 'english': 92, 'math': 72, 'history': 82, 'health': 78}\n",
      "{'name': 'student3', 'chinese': 93, 'english': 96, 'math': 61, 'history': 84, 'health': 59}\n",
      "{'name': 'student4', 'chinese': 61, 'english': 51, 'math': 61, 'history': 84, 'health': 86}\n",
      "{'name': 'student5', 'chinese': 71, 'english': 86, 'math': 57, 'history': 92, 'health': 100}\n",
      "{'name': 'student6', 'chinese': 51, 'english': 96, 'math': 62, 'history': 77, 'health': 91}\n",
      "{'name': 'student7', 'chinese': 86, 'english': 59, 'math': 89, 'history': 62, 'health': 80}\n",
      "{'name': 'student8', 'chinese': 63, 'english': 65, 'math': 66, 'history': 98, 'health': 64}\n",
      "{'name': 'student9', 'chinese': 78, 'english': 56, 'math': 82, 'history': 97, 'health': 91}\n",
      "{'name': 'student10', 'chinese': 50, 'english': 90, 'math': 80, 'history': 94, 'health': 62}\n",
      "{'name': 'student11', 'chinese': 67, 'english': 52, 'math': 76, 'history': 78, 'health': 68}\n",
      "{'name': 'student12', 'chinese': 69, 'english': 85, 'math': 78, 'history': 91, 'health': 76}\n",
      "{'name': 'student13', 'chinese': 86, 'english': 51, 'math': 78, 'history': 81, 'health': 94}\n",
      "{'name': 'student14', 'chinese': 51, 'english': 74, 'math': 52, 'history': 72, 'health': 80}\n",
      "{'name': 'student15', 'chinese': 91, 'english': 98, 'math': 99, 'history': 84, 'health': 78}\n",
      "{'name': 'student16', 'chinese': 73, 'english': 57, 'math': 84, 'history': 89, 'health': 90}\n",
      "{'name': 'student17', 'chinese': 73, 'english': 100, 'math': 59, 'history': 92, 'health': 89}\n",
      "{'name': 'student18', 'chinese': 96, 'english': 82, 'math': 60, 'history': 100, 'health': 51}\n",
      "{'name': 'student19', 'chinese': 79, 'english': 92, 'math': 53, 'history': 100, 'health': 64}\n",
      "{'name': 'student20', 'chinese': 87, 'english': 86, 'math': 55, 'history': 80, 'health': 67}\n",
      "{'name': 'student21', 'chinese': 72, 'english': 79, 'math': 87, 'history': 59, 'health': 64}\n",
      "{'name': 'student22', 'chinese': 65, 'english': 54, 'math': 93, 'history': 89, 'health': 100}\n",
      "{'name': 'student23', 'chinese': 71, 'english': 91, 'math': 55, 'history': 89, 'health': 83}\n",
      "{'name': 'student24', 'chinese': 76, 'english': 72, 'math': 82, 'history': 98, 'health': 87}\n",
      "{'name': 'student25', 'chinese': 68, 'english': 69, 'math': 78, 'history': 93, 'health': 63}\n",
      "{'name': 'student26', 'chinese': 66, 'english': 71, 'math': 74, 'history': 88, 'health': 59}\n",
      "{'name': 'student27', 'chinese': 75, 'english': 51, 'math': 71, 'history': 72, 'health': 53}\n",
      "{'name': 'student28', 'chinese': 83, 'english': 75, 'math': 61, 'history': 89, 'health': 70}\n",
      "{'name': 'student29', 'chinese': 83, 'english': 71, 'math': 83, 'history': 95, 'health': 78}\n",
      "{'name': 'student30', 'chinese': 87, 'english': 72, 'math': 100, 'history': 83, 'health': 96}\n",
      "{'name': 'student31', 'chinese': 76, 'english': 55, 'math': 99, 'history': 64, 'health': 74}\n",
      "{'name': 'student32', 'chinese': 91, 'english': 90, 'math': 83, 'history': 62, 'health': 81}\n",
      "{'name': 'student33', 'chinese': 76, 'english': 59, 'math': 62, 'history': 78, 'health': 68}\n",
      "{'name': 'student34', 'chinese': 67, 'english': 95, 'math': 79, 'history': 88, 'health': 73}\n",
      "{'name': 'student35', 'chinese': 57, 'english': 74, 'math': 64, 'history': 65, 'health': 95}\n",
      "{'name': 'student36', 'chinese': 78, 'english': 60, 'math': 71, 'history': 98, 'health': 97}\n",
      "{'name': 'student37', 'chinese': 86, 'english': 68, 'math': 58, 'history': 63, 'health': 59}\n",
      "{'name': 'student38', 'chinese': 87, 'english': 76, 'math': 54, 'history': 53, 'health': 97}\n",
      "{'name': 'student39', 'chinese': 66, 'english': 50, 'math': 84, 'history': 56, 'health': 65}\n",
      "{'name': 'student40', 'chinese': 69, 'english': 92, 'math': 64, 'history': 93, 'health': 69}\n",
      "{'name': 'student41', 'chinese': 71, 'english': 81, 'math': 57, 'history': 75, 'health': 74}\n",
      "{'name': 'student42', 'chinese': 78, 'english': 57, 'math': 50, 'history': 81, 'health': 55}\n",
      "{'name': 'student43', 'chinese': 58, 'english': 82, 'math': 51, 'history': 57, 'health': 53}\n",
      "{'name': 'student44', 'chinese': 61, 'english': 65, 'math': 96, 'history': 76, 'health': 95}\n",
      "{'name': 'student45', 'chinese': 86, 'english': 62, 'math': 71, 'history': 66, 'health': 91}\n",
      "{'name': 'student46', 'chinese': 99, 'english': 52, 'math': 73, 'history': 80, 'health': 88}\n",
      "{'name': 'student47', 'chinese': 83, 'english': 56, 'math': 55, 'history': 52, 'health': 87}\n",
      "{'name': 'student48', 'chinese': 66, 'english': 88, 'math': 73, 'history': 71, 'health': 69}\n",
      "{'name': 'student49', 'chinese': 80, 'english': 62, 'math': 71, 'history': 74, 'health': 94}\n",
      "{'name': 'student50', 'chinese': 72, 'english': 74, 'math': 85, 'history': 68, 'health': 95}\n"
     ]
    }
   ],
   "source": [
    "for scores in students:\n",
    "    print(scores)"
   ]
  },
  {
   "cell_type": "code",
   "execution_count": 59,
   "metadata": {},
   "outputs": [
    {
     "name": "stdout",
     "output_type": "stream",
     "text": [
      "姓名:student1, 國文:75, 英文:75, 數學:67, 歷史:84, 健康:60\n",
      "姓名:student2, 國文:96, 英文:92, 數學:72, 歷史:82, 健康:78\n",
      "姓名:student3, 國文:93, 英文:96, 數學:61, 歷史:84, 健康:59\n",
      "姓名:student4, 國文:61, 英文:51, 數學:61, 歷史:84, 健康:86\n",
      "姓名:student5, 國文:71, 英文:86, 數學:57, 歷史:92, 健康:100\n",
      "姓名:student6, 國文:51, 英文:96, 數學:62, 歷史:77, 健康:91\n",
      "姓名:student7, 國文:86, 英文:59, 數學:89, 歷史:62, 健康:80\n",
      "姓名:student8, 國文:63, 英文:65, 數學:66, 歷史:98, 健康:64\n",
      "姓名:student9, 國文:78, 英文:56, 數學:82, 歷史:97, 健康:91\n",
      "姓名:student10, 國文:50, 英文:90, 數學:80, 歷史:94, 健康:62\n",
      "姓名:student11, 國文:67, 英文:52, 數學:76, 歷史:78, 健康:68\n",
      "姓名:student12, 國文:69, 英文:85, 數學:78, 歷史:91, 健康:76\n",
      "姓名:student13, 國文:86, 英文:51, 數學:78, 歷史:81, 健康:94\n",
      "姓名:student14, 國文:51, 英文:74, 數學:52, 歷史:72, 健康:80\n",
      "姓名:student15, 國文:91, 英文:98, 數學:99, 歷史:84, 健康:78\n",
      "姓名:student16, 國文:73, 英文:57, 數學:84, 歷史:89, 健康:90\n",
      "姓名:student17, 國文:73, 英文:100, 數學:59, 歷史:92, 健康:89\n",
      "姓名:student18, 國文:96, 英文:82, 數學:60, 歷史:100, 健康:51\n",
      "姓名:student19, 國文:79, 英文:92, 數學:53, 歷史:100, 健康:64\n",
      "姓名:student20, 國文:87, 英文:86, 數學:55, 歷史:80, 健康:67\n",
      "姓名:student21, 國文:72, 英文:79, 數學:87, 歷史:59, 健康:64\n",
      "姓名:student22, 國文:65, 英文:54, 數學:93, 歷史:89, 健康:100\n",
      "姓名:student23, 國文:71, 英文:91, 數學:55, 歷史:89, 健康:83\n",
      "姓名:student24, 國文:76, 英文:72, 數學:82, 歷史:98, 健康:87\n",
      "姓名:student25, 國文:68, 英文:69, 數學:78, 歷史:93, 健康:63\n",
      "姓名:student26, 國文:66, 英文:71, 數學:74, 歷史:88, 健康:59\n",
      "姓名:student27, 國文:75, 英文:51, 數學:71, 歷史:72, 健康:53\n",
      "姓名:student28, 國文:83, 英文:75, 數學:61, 歷史:89, 健康:70\n",
      "姓名:student29, 國文:83, 英文:71, 數學:83, 歷史:95, 健康:78\n",
      "姓名:student30, 國文:87, 英文:72, 數學:100, 歷史:83, 健康:96\n",
      "姓名:student31, 國文:76, 英文:55, 數學:99, 歷史:64, 健康:74\n",
      "姓名:student32, 國文:91, 英文:90, 數學:83, 歷史:62, 健康:81\n",
      "姓名:student33, 國文:76, 英文:59, 數學:62, 歷史:78, 健康:68\n",
      "姓名:student34, 國文:67, 英文:95, 數學:79, 歷史:88, 健康:73\n",
      "姓名:student35, 國文:57, 英文:74, 數學:64, 歷史:65, 健康:95\n",
      "姓名:student36, 國文:78, 英文:60, 數學:71, 歷史:98, 健康:97\n",
      "姓名:student37, 國文:86, 英文:68, 數學:58, 歷史:63, 健康:59\n",
      "姓名:student38, 國文:87, 英文:76, 數學:54, 歷史:53, 健康:97\n",
      "姓名:student39, 國文:66, 英文:50, 數學:84, 歷史:56, 健康:65\n",
      "姓名:student40, 國文:69, 英文:92, 數學:64, 歷史:93, 健康:69\n",
      "姓名:student41, 國文:71, 英文:81, 數學:57, 歷史:75, 健康:74\n",
      "姓名:student42, 國文:78, 英文:57, 數學:50, 歷史:81, 健康:55\n",
      "姓名:student43, 國文:58, 英文:82, 數學:51, 歷史:57, 健康:53\n",
      "姓名:student44, 國文:61, 英文:65, 數學:96, 歷史:76, 健康:95\n",
      "姓名:student45, 國文:86, 英文:62, 數學:71, 歷史:66, 健康:91\n",
      "姓名:student46, 國文:99, 英文:52, 數學:73, 歷史:80, 健康:88\n",
      "姓名:student47, 國文:83, 英文:56, 數學:55, 歷史:52, 健康:87\n",
      "姓名:student48, 國文:66, 英文:88, 數學:73, 歷史:71, 健康:69\n",
      "姓名:student49, 國文:80, 英文:62, 數學:71, 歷史:74, 健康:94\n",
      "姓名:student50, 國文:72, 英文:74, 數學:85, 歷史:68, 健康:95\n"
     ]
    }
   ],
   "source": [
    "# 將 students 列表轉換為字串\n",
    "students_str = '\\n'.join([\n",
    "    f\"姓名:{student['name']}, \"\n",
    "    f\"國文:{student['chinese']}, \"\n",
    "    f\"英文:{student['english']}, \"\n",
    "    f\"數學:{student['math']}, \"\n",
    "    f\"歷史:{student['history']}, \"\n",
    "    f\"健康:{student['health']}\"\n",
    "    for student in students\n",
    "])\n",
    "\n",
    "print(students_str)"
   ]
  },
  {
   "cell_type": "code",
   "execution_count": 61,
   "metadata": {},
   "outputs": [],
   "source": [
    "print(students_str, file=open('students.txt', mode='w', encoding='utf-8'))"
   ]
  }
 ],
 "metadata": {
  "kernelspec": {
   "display_name": "base",
   "language": "python",
   "name": "python3"
  },
  "language_info": {
   "codemirror_mode": {
    "name": "ipython",
    "version": 3
   },
   "file_extension": ".py",
   "mimetype": "text/x-python",
   "name": "python",
   "nbconvert_exporter": "python",
   "pygments_lexer": "ipython3",
   "version": "3.12.2"
  }
 },
 "nbformat": 4,
 "nbformat_minor": 2
}
